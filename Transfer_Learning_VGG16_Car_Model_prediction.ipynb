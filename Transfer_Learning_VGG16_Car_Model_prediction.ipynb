{
  "nbformat": 4,
  "nbformat_minor": 0,
  "metadata": {
    "colab": {
      "name": "Car_Model_prediction.ipynb",
      "provenance": [],
      "collapsed_sections": [],
      "toc_visible": true
    },
    "kernelspec": {
      "name": "python3",
      "display_name": "Python 3"
    },
    "accelerator": "GPU"
  },
  "cells": [
    {
      "cell_type": "code",
      "metadata": {
        "id": "m1rtOVOSn4ig"
      },
      "source": [
        "import numpy as np\n",
        "import matplotlib.pyplot as plt\n",
        "import keras\n",
        "from keras.layers import Dense,Input, Lambda, Flatten\n",
        "from keras.models import Sequential\n",
        "from tensorflow import random\n",
        "from tensorflow.keras.applications.inception_v3 import preprocess_input\n",
        "from glob import glob\n",
        "from keras.models import Model\n",
        "from keras.applications.vgg16 import VGG16"
      ],
      "execution_count": 95,
      "outputs": []
    },
    {
      "cell_type": "code",
      "metadata": {
        "id": "KeiBhR6woDxg"
      },
      "source": [
        "IMAGE_SIZE = [224, 224]"
      ],
      "execution_count": 96,
      "outputs": []
    },
    {
      "cell_type": "code",
      "metadata": {
        "id": "eW3XTEIboIn8"
      },
      "source": [
        "np.random.seed(42)\n",
        "random.set_seed(42)\n",
        "\n",
        "vgg_model = VGG16(input_shape=IMAGE_SIZE + [3], weights='imagenet',include_top=False)"
      ],
      "execution_count": 97,
      "outputs": []
    },
    {
      "cell_type": "code",
      "metadata": {
        "id": "B9Zd_MM1tBwc",
        "outputId": "73e1e2b5-0401-4846-f0b8-6e9acafc8e1a",
        "colab": {
          "base_uri": "https://localhost:8080/",
          "height": 790
        }
      },
      "source": [
        "vgg_model.summary()"
      ],
      "execution_count": 98,
      "outputs": [
        {
          "output_type": "stream",
          "text": [
            "Model: \"vgg16\"\n",
            "_________________________________________________________________\n",
            "Layer (type)                 Output Shape              Param #   \n",
            "=================================================================\n",
            "input_6 (InputLayer)         [(None, 224, 224, 3)]     0         \n",
            "_________________________________________________________________\n",
            "block1_conv1 (Conv2D)        (None, 224, 224, 64)      1792      \n",
            "_________________________________________________________________\n",
            "block1_conv2 (Conv2D)        (None, 224, 224, 64)      36928     \n",
            "_________________________________________________________________\n",
            "block1_pool (MaxPooling2D)   (None, 112, 112, 64)      0         \n",
            "_________________________________________________________________\n",
            "block2_conv1 (Conv2D)        (None, 112, 112, 128)     73856     \n",
            "_________________________________________________________________\n",
            "block2_conv2 (Conv2D)        (None, 112, 112, 128)     147584    \n",
            "_________________________________________________________________\n",
            "block2_pool (MaxPooling2D)   (None, 56, 56, 128)       0         \n",
            "_________________________________________________________________\n",
            "block3_conv1 (Conv2D)        (None, 56, 56, 256)       295168    \n",
            "_________________________________________________________________\n",
            "block3_conv2 (Conv2D)        (None, 56, 56, 256)       590080    \n",
            "_________________________________________________________________\n",
            "block3_conv3 (Conv2D)        (None, 56, 56, 256)       590080    \n",
            "_________________________________________________________________\n",
            "block3_pool (MaxPooling2D)   (None, 28, 28, 256)       0         \n",
            "_________________________________________________________________\n",
            "block4_conv1 (Conv2D)        (None, 28, 28, 512)       1180160   \n",
            "_________________________________________________________________\n",
            "block4_conv2 (Conv2D)        (None, 28, 28, 512)       2359808   \n",
            "_________________________________________________________________\n",
            "block4_conv3 (Conv2D)        (None, 28, 28, 512)       2359808   \n",
            "_________________________________________________________________\n",
            "block4_pool (MaxPooling2D)   (None, 14, 14, 512)       0         \n",
            "_________________________________________________________________\n",
            "block5_conv1 (Conv2D)        (None, 14, 14, 512)       2359808   \n",
            "_________________________________________________________________\n",
            "block5_conv2 (Conv2D)        (None, 14, 14, 512)       2359808   \n",
            "_________________________________________________________________\n",
            "block5_conv3 (Conv2D)        (None, 14, 14, 512)       2359808   \n",
            "_________________________________________________________________\n",
            "block5_pool (MaxPooling2D)   (None, 7, 7, 512)         0         \n",
            "=================================================================\n",
            "Total params: 14,714,688\n",
            "Trainable params: 14,714,688\n",
            "Non-trainable params: 0\n",
            "_________________________________________________________________\n"
          ],
          "name": "stdout"
        }
      ]
    },
    {
      "cell_type": "code",
      "metadata": {
        "id": "N1-ZrhY8tNmd"
      },
      "source": [
        "# don't train existing weights\n",
        "for layer in vgg_model.layers:\n",
        "    layer.trainable = False"
      ],
      "execution_count": 99,
      "outputs": []
    },
    {
      "cell_type": "code",
      "metadata": {
        "id": "T73wc_kTtzpd"
      },
      "source": [
        "folders = glob('/content/drive/My Drive/all_dataset/car_image_dataset/Train/*')"
      ],
      "execution_count": 100,
      "outputs": []
    },
    {
      "cell_type": "code",
      "metadata": {
        "id": "ZQLz_GAEuJO8"
      },
      "source": [
        "# our layers - you can add more if you want\n",
        "x = Flatten()(vgg_model.output)"
      ],
      "execution_count": 101,
      "outputs": []
    },
    {
      "cell_type": "code",
      "metadata": {
        "id": "e7p6gUScuPBN"
      },
      "source": [
        "prediction = Dense(len(folders), activation='softmax')(x)\n",
        "\n",
        "# create a model object\n",
        "model = Model(inputs=vgg_model.input, outputs=prediction)\n",
        "\n"
      ],
      "execution_count": 103,
      "outputs": []
    },
    {
      "cell_type": "code",
      "metadata": {
        "id": "q13YY51xuu0t",
        "outputId": "e13b7b8e-9b47-4137-97d0-3ba661f2bbec",
        "colab": {
          "base_uri": "https://localhost:8080/",
          "height": 857
        }
      },
      "source": [
        "model.summary()"
      ],
      "execution_count": 104,
      "outputs": [
        {
          "output_type": "stream",
          "text": [
            "Model: \"functional_11\"\n",
            "_________________________________________________________________\n",
            "Layer (type)                 Output Shape              Param #   \n",
            "=================================================================\n",
            "input_6 (InputLayer)         [(None, 224, 224, 3)]     0         \n",
            "_________________________________________________________________\n",
            "block1_conv1 (Conv2D)        (None, 224, 224, 64)      1792      \n",
            "_________________________________________________________________\n",
            "block1_conv2 (Conv2D)        (None, 224, 224, 64)      36928     \n",
            "_________________________________________________________________\n",
            "block1_pool (MaxPooling2D)   (None, 112, 112, 64)      0         \n",
            "_________________________________________________________________\n",
            "block2_conv1 (Conv2D)        (None, 112, 112, 128)     73856     \n",
            "_________________________________________________________________\n",
            "block2_conv2 (Conv2D)        (None, 112, 112, 128)     147584    \n",
            "_________________________________________________________________\n",
            "block2_pool (MaxPooling2D)   (None, 56, 56, 128)       0         \n",
            "_________________________________________________________________\n",
            "block3_conv1 (Conv2D)        (None, 56, 56, 256)       295168    \n",
            "_________________________________________________________________\n",
            "block3_conv2 (Conv2D)        (None, 56, 56, 256)       590080    \n",
            "_________________________________________________________________\n",
            "block3_conv3 (Conv2D)        (None, 56, 56, 256)       590080    \n",
            "_________________________________________________________________\n",
            "block3_pool (MaxPooling2D)   (None, 28, 28, 256)       0         \n",
            "_________________________________________________________________\n",
            "block4_conv1 (Conv2D)        (None, 28, 28, 512)       1180160   \n",
            "_________________________________________________________________\n",
            "block4_conv2 (Conv2D)        (None, 28, 28, 512)       2359808   \n",
            "_________________________________________________________________\n",
            "block4_conv3 (Conv2D)        (None, 28, 28, 512)       2359808   \n",
            "_________________________________________________________________\n",
            "block4_pool (MaxPooling2D)   (None, 14, 14, 512)       0         \n",
            "_________________________________________________________________\n",
            "block5_conv1 (Conv2D)        (None, 14, 14, 512)       2359808   \n",
            "_________________________________________________________________\n",
            "block5_conv2 (Conv2D)        (None, 14, 14, 512)       2359808   \n",
            "_________________________________________________________________\n",
            "block5_conv3 (Conv2D)        (None, 14, 14, 512)       2359808   \n",
            "_________________________________________________________________\n",
            "block5_pool (MaxPooling2D)   (None, 7, 7, 512)         0         \n",
            "_________________________________________________________________\n",
            "flatten_4 (Flatten)          (None, 25088)             0         \n",
            "_________________________________________________________________\n",
            "dense_5 (Dense)              (None, 3)                 75267     \n",
            "=================================================================\n",
            "Total params: 14,789,955\n",
            "Trainable params: 75,267\n",
            "Non-trainable params: 14,714,688\n",
            "_________________________________________________________________\n"
          ],
          "name": "stdout"
        }
      ]
    },
    {
      "cell_type": "code",
      "metadata": {
        "id": "7011yV6Juwwc"
      },
      "source": [
        "model.compile(optimizer='adam', loss='categorical_crossentropy', metrics=['accuracy'])"
      ],
      "execution_count": 105,
      "outputs": []
    },
    {
      "cell_type": "code",
      "metadata": {
        "id": "1gKZfU4hvKhd"
      },
      "source": [
        "from keras.preprocessing.image import ImageDataGenerator\n",
        "\n",
        "generate_train_data = ImageDataGenerator(rescale = 1./255,\n",
        "                                         shear_range = 0.2,\n",
        "                                         zoom_range = 0.2,\n",
        "                                         horizontal_flip = True)\n",
        "\n",
        "generate_test_data = ImageDataGenerator(rescale =1./255)"
      ],
      "execution_count": 106,
      "outputs": []
    },
    {
      "cell_type": "code",
      "metadata": {
        "id": "eWS7o_6SvQAk",
        "outputId": "7bfe3e91-8718-4474-a8e9-7505e3d03af4",
        "colab": {
          "base_uri": "https://localhost:8080/",
          "height": 50
        }
      },
      "source": [
        "training_dataset = generate_train_data.flow_from_directory('/content/drive/My Drive/all_dataset/car_image_dataset/Train',\n",
        "                                                 target_size = (224, 224),\n",
        "                                                 batch_size = 32,\n",
        "                                                 class_mode = 'categorical')\n",
        "\n",
        "test_datasetset = generate_test_data.flow_from_directory('/content/drive/My Drive/all_dataset/car_image_dataset/Test',\n",
        "                                            target_size = (224, 224),\n",
        "                                            batch_size = 32,\n",
        "                                            class_mode = 'categorical')"
      ],
      "execution_count": 107,
      "outputs": [
        {
          "output_type": "stream",
          "text": [
            "Found 64 images belonging to 3 classes.\n",
            "Found 58 images belonging to 3 classes.\n"
          ],
          "name": "stdout"
        }
      ]
    },
    {
      "cell_type": "code",
      "metadata": {
        "id": "Vf4RPgBBvnfa",
        "outputId": "cc85c8f1-30dc-496e-c58c-e0d68d8c645c",
        "colab": {
          "base_uri": "https://localhost:8080/",
          "height": 1000
        }
      },
      "source": [
        "history=model.fit_generator(training_dataset,\n",
        "                         steps_per_epoch = len(training_dataset),\n",
        "                         epochs = 100,\n",
        "                         validation_data = test_datasetset,\n",
        "                         validation_steps = len(test_datasetset),\n",
        "                         shuffle=False)"
      ],
      "execution_count": 108,
      "outputs": [
        {
          "output_type": "stream",
          "text": [
            "Epoch 1/100\n",
            "2/2 [==============================] - 1s 512ms/step - loss: 2.2725 - accuracy: 0.2812 - val_loss: 3.1610 - val_accuracy: 0.3448\n",
            "Epoch 2/100\n",
            "2/2 [==============================] - 1s 355ms/step - loss: 1.5424 - accuracy: 0.5781 - val_loss: 0.8144 - val_accuracy: 0.6034\n",
            "Epoch 3/100\n",
            "2/2 [==============================] - 1s 360ms/step - loss: 0.9741 - accuracy: 0.5938 - val_loss: 1.1809 - val_accuracy: 0.5690\n",
            "Epoch 4/100\n",
            "2/2 [==============================] - 1s 360ms/step - loss: 0.6228 - accuracy: 0.7188 - val_loss: 0.6868 - val_accuracy: 0.6897\n",
            "Epoch 5/100\n",
            "2/2 [==============================] - 1s 367ms/step - loss: 0.3396 - accuracy: 0.8594 - val_loss: 0.8854 - val_accuracy: 0.5690\n",
            "Epoch 6/100\n",
            "2/2 [==============================] - 1s 359ms/step - loss: 0.3677 - accuracy: 0.8438 - val_loss: 0.6047 - val_accuracy: 0.7414\n",
            "Epoch 7/100\n",
            "2/2 [==============================] - 1s 367ms/step - loss: 0.1755 - accuracy: 0.9375 - val_loss: 0.5122 - val_accuracy: 0.7931\n",
            "Epoch 8/100\n",
            "2/2 [==============================] - 1s 361ms/step - loss: 0.1211 - accuracy: 0.9688 - val_loss: 0.6945 - val_accuracy: 0.7069\n",
            "Epoch 9/100\n",
            "2/2 [==============================] - 1s 361ms/step - loss: 0.1960 - accuracy: 0.9219 - val_loss: 0.6752 - val_accuracy: 0.7241\n",
            "Epoch 10/100\n",
            "2/2 [==============================] - 1s 359ms/step - loss: 0.1129 - accuracy: 0.9844 - val_loss: 0.5458 - val_accuracy: 0.7759\n",
            "Epoch 11/100\n",
            "2/2 [==============================] - 1s 348ms/step - loss: 0.0886 - accuracy: 0.9844 - val_loss: 0.4370 - val_accuracy: 0.8103\n",
            "Epoch 12/100\n",
            "2/2 [==============================] - 1s 352ms/step - loss: 0.0316 - accuracy: 1.0000 - val_loss: 0.4057 - val_accuracy: 0.8793\n",
            "Epoch 13/100\n",
            "2/2 [==============================] - 1s 359ms/step - loss: 0.0466 - accuracy: 1.0000 - val_loss: 0.4169 - val_accuracy: 0.8448\n",
            "Epoch 14/100\n",
            "2/2 [==============================] - 1s 367ms/step - loss: 0.0329 - accuracy: 1.0000 - val_loss: 0.4197 - val_accuracy: 0.8448\n",
            "Epoch 15/100\n",
            "2/2 [==============================] - 1s 356ms/step - loss: 0.0517 - accuracy: 1.0000 - val_loss: 0.4027 - val_accuracy: 0.8621\n",
            "Epoch 16/100\n",
            "2/2 [==============================] - 1s 351ms/step - loss: 0.0362 - accuracy: 1.0000 - val_loss: 0.3853 - val_accuracy: 0.8621\n",
            "Epoch 17/100\n",
            "2/2 [==============================] - 1s 349ms/step - loss: 0.0177 - accuracy: 1.0000 - val_loss: 0.3766 - val_accuracy: 0.8621\n",
            "Epoch 18/100\n",
            "2/2 [==============================] - 1s 358ms/step - loss: 0.0190 - accuracy: 1.0000 - val_loss: 0.3784 - val_accuracy: 0.8621\n",
            "Epoch 19/100\n",
            "2/2 [==============================] - 1s 360ms/step - loss: 0.0174 - accuracy: 1.0000 - val_loss: 0.3844 - val_accuracy: 0.8621\n",
            "Epoch 20/100\n",
            "2/2 [==============================] - 1s 366ms/step - loss: 0.0165 - accuracy: 1.0000 - val_loss: 0.3934 - val_accuracy: 0.8448\n",
            "Epoch 21/100\n",
            "2/2 [==============================] - 1s 349ms/step - loss: 0.0128 - accuracy: 1.0000 - val_loss: 0.4060 - val_accuracy: 0.8621\n",
            "Epoch 22/100\n",
            "2/2 [==============================] - 1s 350ms/step - loss: 0.0146 - accuracy: 1.0000 - val_loss: 0.4139 - val_accuracy: 0.8793\n",
            "Epoch 23/100\n",
            "2/2 [==============================] - 1s 361ms/step - loss: 0.0123 - accuracy: 1.0000 - val_loss: 0.4132 - val_accuracy: 0.8793\n",
            "Epoch 24/100\n",
            "2/2 [==============================] - 1s 354ms/step - loss: 0.0166 - accuracy: 1.0000 - val_loss: 0.4041 - val_accuracy: 0.8793\n",
            "Epoch 25/100\n",
            "2/2 [==============================] - 1s 362ms/step - loss: 0.0109 - accuracy: 1.0000 - val_loss: 0.3926 - val_accuracy: 0.8448\n",
            "Epoch 26/100\n",
            "2/2 [==============================] - 1s 362ms/step - loss: 0.0105 - accuracy: 1.0000 - val_loss: 0.3845 - val_accuracy: 0.8448\n",
            "Epoch 27/100\n",
            "2/2 [==============================] - 1s 345ms/step - loss: 0.0099 - accuracy: 1.0000 - val_loss: 0.3747 - val_accuracy: 0.8621\n",
            "Epoch 28/100\n",
            "2/2 [==============================] - 1s 368ms/step - loss: 0.0108 - accuracy: 1.0000 - val_loss: 0.3675 - val_accuracy: 0.8621\n",
            "Epoch 29/100\n",
            "2/2 [==============================] - 1s 358ms/step - loss: 0.0072 - accuracy: 1.0000 - val_loss: 0.3608 - val_accuracy: 0.8621\n",
            "Epoch 30/100\n",
            "2/2 [==============================] - 1s 359ms/step - loss: 0.0070 - accuracy: 1.0000 - val_loss: 0.3560 - val_accuracy: 0.8621\n",
            "Epoch 31/100\n",
            "2/2 [==============================] - 1s 352ms/step - loss: 0.0074 - accuracy: 1.0000 - val_loss: 0.3526 - val_accuracy: 0.8793\n",
            "Epoch 32/100\n",
            "2/2 [==============================] - 1s 351ms/step - loss: 0.0074 - accuracy: 1.0000 - val_loss: 0.3510 - val_accuracy: 0.8793\n",
            "Epoch 33/100\n",
            "2/2 [==============================] - 1s 353ms/step - loss: 0.0083 - accuracy: 1.0000 - val_loss: 0.3496 - val_accuracy: 0.8793\n",
            "Epoch 34/100\n",
            "2/2 [==============================] - 1s 357ms/step - loss: 0.0082 - accuracy: 1.0000 - val_loss: 0.3477 - val_accuracy: 0.8793\n",
            "Epoch 35/100\n",
            "2/2 [==============================] - 1s 352ms/step - loss: 0.0079 - accuracy: 1.0000 - val_loss: 0.3468 - val_accuracy: 0.8793\n",
            "Epoch 36/100\n",
            "2/2 [==============================] - 1s 360ms/step - loss: 0.0067 - accuracy: 1.0000 - val_loss: 0.3465 - val_accuracy: 0.8793\n",
            "Epoch 37/100\n",
            "2/2 [==============================] - 1s 350ms/step - loss: 0.0064 - accuracy: 1.0000 - val_loss: 0.3475 - val_accuracy: 0.8793\n",
            "Epoch 38/100\n",
            "2/2 [==============================] - 1s 388ms/step - loss: 0.0074 - accuracy: 1.0000 - val_loss: 0.3470 - val_accuracy: 0.8793\n",
            "Epoch 39/100\n",
            "2/2 [==============================] - 1s 382ms/step - loss: 0.0080 - accuracy: 1.0000 - val_loss: 0.3478 - val_accuracy: 0.8621\n",
            "Epoch 40/100\n",
            "2/2 [==============================] - 1s 376ms/step - loss: 0.0069 - accuracy: 1.0000 - val_loss: 0.3505 - val_accuracy: 0.8621\n",
            "Epoch 41/100\n",
            "2/2 [==============================] - 1s 391ms/step - loss: 0.0047 - accuracy: 1.0000 - val_loss: 0.3546 - val_accuracy: 0.8621\n",
            "Epoch 42/100\n",
            "2/2 [==============================] - 1s 369ms/step - loss: 0.0066 - accuracy: 1.0000 - val_loss: 0.3584 - val_accuracy: 0.8793\n",
            "Epoch 43/100\n",
            "2/2 [==============================] - 1s 380ms/step - loss: 0.0043 - accuracy: 1.0000 - val_loss: 0.3615 - val_accuracy: 0.8793\n",
            "Epoch 44/100\n",
            "2/2 [==============================] - 1s 389ms/step - loss: 0.0061 - accuracy: 1.0000 - val_loss: 0.3633 - val_accuracy: 0.8793\n",
            "Epoch 45/100\n",
            "2/2 [==============================] - 1s 379ms/step - loss: 0.0048 - accuracy: 1.0000 - val_loss: 0.3652 - val_accuracy: 0.8793\n",
            "Epoch 46/100\n",
            "2/2 [==============================] - 1s 355ms/step - loss: 0.0054 - accuracy: 1.0000 - val_loss: 0.3682 - val_accuracy: 0.8793\n",
            "Epoch 47/100\n",
            "2/2 [==============================] - 1s 363ms/step - loss: 0.0057 - accuracy: 1.0000 - val_loss: 0.3688 - val_accuracy: 0.8793\n",
            "Epoch 48/100\n",
            "2/2 [==============================] - 1s 357ms/step - loss: 0.0052 - accuracy: 1.0000 - val_loss: 0.3690 - val_accuracy: 0.8793\n",
            "Epoch 49/100\n",
            "2/2 [==============================] - 1s 351ms/step - loss: 0.0038 - accuracy: 1.0000 - val_loss: 0.3684 - val_accuracy: 0.8793\n",
            "Epoch 50/100\n",
            "2/2 [==============================] - 1s 356ms/step - loss: 0.0046 - accuracy: 1.0000 - val_loss: 0.3676 - val_accuracy: 0.8793\n",
            "Epoch 51/100\n",
            "2/2 [==============================] - 1s 354ms/step - loss: 0.0052 - accuracy: 1.0000 - val_loss: 0.3633 - val_accuracy: 0.8621\n",
            "Epoch 52/100\n",
            "2/2 [==============================] - 1s 356ms/step - loss: 0.0045 - accuracy: 1.0000 - val_loss: 0.3600 - val_accuracy: 0.8621\n",
            "Epoch 53/100\n",
            "2/2 [==============================] - 1s 364ms/step - loss: 0.0064 - accuracy: 1.0000 - val_loss: 0.3556 - val_accuracy: 0.8621\n",
            "Epoch 54/100\n",
            "2/2 [==============================] - 1s 351ms/step - loss: 0.0046 - accuracy: 1.0000 - val_loss: 0.3523 - val_accuracy: 0.8621\n",
            "Epoch 55/100\n",
            "2/2 [==============================] - 1s 359ms/step - loss: 0.0053 - accuracy: 1.0000 - val_loss: 0.3497 - val_accuracy: 0.8621\n",
            "Epoch 56/100\n",
            "2/2 [==============================] - 1s 353ms/step - loss: 0.0040 - accuracy: 1.0000 - val_loss: 0.3484 - val_accuracy: 0.8621\n",
            "Epoch 57/100\n",
            "2/2 [==============================] - 1s 352ms/step - loss: 0.0037 - accuracy: 1.0000 - val_loss: 0.3474 - val_accuracy: 0.8793\n",
            "Epoch 58/100\n",
            "2/2 [==============================] - 1s 361ms/step - loss: 0.0043 - accuracy: 1.0000 - val_loss: 0.3472 - val_accuracy: 0.8793\n",
            "Epoch 59/100\n",
            "2/2 [==============================] - 1s 353ms/step - loss: 0.0043 - accuracy: 1.0000 - val_loss: 0.3482 - val_accuracy: 0.8966\n",
            "Epoch 60/100\n",
            "2/2 [==============================] - 1s 354ms/step - loss: 0.0035 - accuracy: 1.0000 - val_loss: 0.3495 - val_accuracy: 0.8793\n",
            "Epoch 61/100\n",
            "2/2 [==============================] - 1s 358ms/step - loss: 0.0045 - accuracy: 1.0000 - val_loss: 0.3496 - val_accuracy: 0.8793\n",
            "Epoch 62/100\n",
            "2/2 [==============================] - 1s 349ms/step - loss: 0.0029 - accuracy: 1.0000 - val_loss: 0.3492 - val_accuracy: 0.8793\n",
            "Epoch 63/100\n",
            "2/2 [==============================] - 1s 352ms/step - loss: 0.0041 - accuracy: 1.0000 - val_loss: 0.3482 - val_accuracy: 0.8793\n",
            "Epoch 64/100\n",
            "2/2 [==============================] - 1s 360ms/step - loss: 0.0041 - accuracy: 1.0000 - val_loss: 0.3475 - val_accuracy: 0.8793\n",
            "Epoch 65/100\n",
            "2/2 [==============================] - 1s 354ms/step - loss: 0.0034 - accuracy: 1.0000 - val_loss: 0.3483 - val_accuracy: 0.8966\n",
            "Epoch 66/100\n",
            "2/2 [==============================] - 1s 356ms/step - loss: 0.0034 - accuracy: 1.0000 - val_loss: 0.3491 - val_accuracy: 0.8966\n",
            "Epoch 67/100\n",
            "2/2 [==============================] - 1s 367ms/step - loss: 0.0037 - accuracy: 1.0000 - val_loss: 0.3502 - val_accuracy: 0.8966\n",
            "Epoch 68/100\n",
            "2/2 [==============================] - 1s 352ms/step - loss: 0.0041 - accuracy: 1.0000 - val_loss: 0.3511 - val_accuracy: 0.8966\n",
            "Epoch 69/100\n",
            "2/2 [==============================] - 1s 364ms/step - loss: 0.0032 - accuracy: 1.0000 - val_loss: 0.3514 - val_accuracy: 0.8966\n",
            "Epoch 70/100\n",
            "2/2 [==============================] - 1s 351ms/step - loss: 0.0036 - accuracy: 1.0000 - val_loss: 0.3521 - val_accuracy: 0.8966\n",
            "Epoch 71/100\n",
            "2/2 [==============================] - 1s 354ms/step - loss: 0.0034 - accuracy: 1.0000 - val_loss: 0.3531 - val_accuracy: 0.8793\n",
            "Epoch 72/100\n",
            "2/2 [==============================] - 1s 360ms/step - loss: 0.0047 - accuracy: 1.0000 - val_loss: 0.3528 - val_accuracy: 0.8793\n",
            "Epoch 73/100\n",
            "2/2 [==============================] - 1s 353ms/step - loss: 0.0029 - accuracy: 1.0000 - val_loss: 0.3534 - val_accuracy: 0.8793\n",
            "Epoch 74/100\n",
            "2/2 [==============================] - 1s 356ms/step - loss: 0.0024 - accuracy: 1.0000 - val_loss: 0.3538 - val_accuracy: 0.8793\n",
            "Epoch 75/100\n",
            "2/2 [==============================] - 1s 362ms/step - loss: 0.0035 - accuracy: 1.0000 - val_loss: 0.3536 - val_accuracy: 0.8793\n",
            "Epoch 76/100\n",
            "2/2 [==============================] - 1s 361ms/step - loss: 0.0032 - accuracy: 1.0000 - val_loss: 0.3526 - val_accuracy: 0.8621\n",
            "Epoch 77/100\n",
            "2/2 [==============================] - 1s 362ms/step - loss: 0.0027 - accuracy: 1.0000 - val_loss: 0.3518 - val_accuracy: 0.8621\n",
            "Epoch 78/100\n",
            "2/2 [==============================] - 1s 357ms/step - loss: 0.0052 - accuracy: 1.0000 - val_loss: 0.3544 - val_accuracy: 0.8621\n",
            "Epoch 79/100\n",
            "2/2 [==============================] - 1s 357ms/step - loss: 0.0036 - accuracy: 1.0000 - val_loss: 0.3574 - val_accuracy: 0.8793\n",
            "Epoch 80/100\n",
            "2/2 [==============================] - 1s 350ms/step - loss: 0.0031 - accuracy: 1.0000 - val_loss: 0.3592 - val_accuracy: 0.8793\n",
            "Epoch 81/100\n",
            "2/2 [==============================] - 1s 357ms/step - loss: 0.0033 - accuracy: 1.0000 - val_loss: 0.3583 - val_accuracy: 0.8793\n",
            "Epoch 82/100\n",
            "2/2 [==============================] - 1s 359ms/step - loss: 0.0025 - accuracy: 1.0000 - val_loss: 0.3571 - val_accuracy: 0.8793\n",
            "Epoch 83/100\n",
            "2/2 [==============================] - 1s 358ms/step - loss: 0.0022 - accuracy: 1.0000 - val_loss: 0.3561 - val_accuracy: 0.8793\n",
            "Epoch 84/100\n",
            "2/2 [==============================] - 1s 354ms/step - loss: 0.0037 - accuracy: 1.0000 - val_loss: 0.3547 - val_accuracy: 0.8793\n",
            "Epoch 85/100\n",
            "2/2 [==============================] - 1s 353ms/step - loss: 0.0032 - accuracy: 1.0000 - val_loss: 0.3521 - val_accuracy: 0.8793\n",
            "Epoch 86/100\n",
            "2/2 [==============================] - 1s 348ms/step - loss: 0.0031 - accuracy: 1.0000 - val_loss: 0.3501 - val_accuracy: 0.8793\n",
            "Epoch 87/100\n",
            "2/2 [==============================] - 1s 359ms/step - loss: 0.0024 - accuracy: 1.0000 - val_loss: 0.3482 - val_accuracy: 0.8966\n",
            "Epoch 88/100\n",
            "2/2 [==============================] - 1s 351ms/step - loss: 0.0025 - accuracy: 1.0000 - val_loss: 0.3469 - val_accuracy: 0.8966\n",
            "Epoch 89/100\n",
            "2/2 [==============================] - 1s 348ms/step - loss: 0.0028 - accuracy: 1.0000 - val_loss: 0.3454 - val_accuracy: 0.8966\n",
            "Epoch 90/100\n",
            "2/2 [==============================] - 1s 349ms/step - loss: 0.0022 - accuracy: 1.0000 - val_loss: 0.3435 - val_accuracy: 0.8966\n",
            "Epoch 91/100\n",
            "2/2 [==============================] - 1s 351ms/step - loss: 0.0035 - accuracy: 1.0000 - val_loss: 0.3408 - val_accuracy: 0.8793\n",
            "Epoch 92/100\n",
            "2/2 [==============================] - 1s 356ms/step - loss: 0.0024 - accuracy: 1.0000 - val_loss: 0.3386 - val_accuracy: 0.8966\n",
            "Epoch 93/100\n",
            "2/2 [==============================] - 1s 356ms/step - loss: 0.0031 - accuracy: 1.0000 - val_loss: 0.3372 - val_accuracy: 0.8966\n",
            "Epoch 94/100\n",
            "2/2 [==============================] - 1s 357ms/step - loss: 0.0028 - accuracy: 1.0000 - val_loss: 0.3376 - val_accuracy: 0.8966\n",
            "Epoch 95/100\n",
            "2/2 [==============================] - 1s 352ms/step - loss: 0.0023 - accuracy: 1.0000 - val_loss: 0.3385 - val_accuracy: 0.8793\n",
            "Epoch 96/100\n",
            "2/2 [==============================] - 1s 348ms/step - loss: 0.0023 - accuracy: 1.0000 - val_loss: 0.3402 - val_accuracy: 0.8793\n",
            "Epoch 97/100\n",
            "2/2 [==============================] - 1s 358ms/step - loss: 0.0024 - accuracy: 1.0000 - val_loss: 0.3427 - val_accuracy: 0.8793\n",
            "Epoch 98/100\n",
            "2/2 [==============================] - 1s 356ms/step - loss: 0.0032 - accuracy: 1.0000 - val_loss: 0.3458 - val_accuracy: 0.8793\n",
            "Epoch 99/100\n",
            "2/2 [==============================] - 1s 357ms/step - loss: 0.0021 - accuracy: 1.0000 - val_loss: 0.3480 - val_accuracy: 0.8793\n",
            "Epoch 100/100\n",
            "2/2 [==============================] - 1s 353ms/step - loss: 0.0026 - accuracy: 1.0000 - val_loss: 0.3492 - val_accuracy: 0.8793\n"
          ],
          "name": "stdout"
        }
      ]
    },
    {
      "cell_type": "code",
      "metadata": {
        "id": "Od0QtBEiwGHN",
        "outputId": "538a5f47-4825-4b65-fede-39599e5753ef",
        "colab": {
          "base_uri": "https://localhost:8080/",
          "height": 530
        }
      },
      "source": [
        "# plot the loss\n",
        "plt.plot(history.history['loss'], label='train loss')\n",
        "plt.plot(history.history['val_loss'], label='val loss')\n",
        "plt.legend()\n",
        "plt.show()\n",
        "plt.savefig('LossVal_loss')\n",
        "\n",
        "# plot the accuracy\n",
        "plt.plot(history.history['accuracy'], label='train acc')\n",
        "plt.plot(history.history['val_accuracy'], label='val acc')\n",
        "plt.legend()\n",
        "plt.show()\n",
        "plt.savefig('AccVal_acc')"
      ],
      "execution_count": 109,
      "outputs": [
        {
          "output_type": "display_data",
          "data": {
            "image/png": "[encoded data removed]",
            "text/plain": [
              "<Figure size 432x288 with 1 Axes>"
            ]
          },
          "metadata": {
            "tags": [],
            "needs_background": "light"
          }
        },
        {
          "output_type": "display_data",
          "data": {
            "image/png": "[encoded data removed]",
            "text/plain": [
              "<Figure size 432x288 with 1 Axes>"
            ]
          },
          "metadata": {
            "tags": [],
            "needs_background": "light"
          }
        },
        {
          "output_type": "display_data",
          "data": {
            "text/plain": [
              "<Figure size 432x288 with 0 Axes>"
            ]
          },
          "metadata": {
            "tags": []
          }
        }
      ]
    },
    {
      "cell_type": "code",
      "metadata": {
        "id": "q9djJz2Ixjre"
      },
      "source": [
        "from tensorflow.keras.models import load_model\n",
        "\n",
        "model.save('Car_prediction_model_VGG16.h5')"
      ],
      "execution_count": 136,
      "outputs": []
    },
    {
      "cell_type": "code",
      "metadata": {
        "id": "9ABBIxZ4ytgP"
      },
      "source": [
        "\n",
        "y_pred = model.predict(test_datasetset)"
      ],
      "execution_count": 111,
      "outputs": []
    },
    {
      "cell_type": "code",
      "metadata": {
        "id": "AfnHCNnLyNlX"
      },
      "source": [
        "import numpy as np\n",
        "y_pred = np.argmax(y_pred, axis=1)"
      ],
      "execution_count": 112,
      "outputs": []
    },
    {
      "cell_type": "code",
      "metadata": {
        "id": "VkmbfBxNy2gk"
      },
      "source": [
        "from keras.models import load_model\n",
        "from keras.preprocessing import image"
      ],
      "execution_count": 113,
      "outputs": []
    },
    {
      "cell_type": "code",
      "metadata": {
        "id": "6o30QdNqzCfs"
      },
      "source": [
        "model=load_model('Car_prediction_model_VGG16.h5')\n"
      ],
      "execution_count": 114,
      "outputs": []
    },
    {
      "cell_type": "code",
      "metadata": {
        "id": "AzAIfki_zIWd",
        "outputId": "9f33f723-418a-4922-9c8f-22262091931a",
        "colab": {
          "base_uri": "https://localhost:8080/",
          "height": 241
        }
      },
      "source": [
        "img=image.load_img('/content/drive/My Drive/all_dataset/car_image_dataset/testing/Marcedes/images (4).jpg',target_size=(224,224))\n",
        "img"
      ],
      "execution_count": 132,
      "outputs": [
        {
          "output_type": "execute_result",
          "data": {
            "image/png": "[encoded data removed]",
            "text/plain": [
              "<PIL.Image.Image image mode=RGB size=224x224 at 0x7FA8DFB5A9B0>"
            ]
          },
          "metadata": {
            "tags": []
          },
          "execution_count": 132
        }
      ]
    },
    {
      "cell_type": "code",
      "metadata": {
        "id": "4Z4DuosozYOF"
      },
      "source": [
        "x=image.img_to_array(img)\n",
        "x=x/255"
      ],
      "execution_count": 133,
      "outputs": []
    },
    {
      "cell_type": "code",
      "metadata": {
        "id": "wjEC516jzrUH",
        "outputId": "b722a7f5-91b0-43e7-c0fe-319552218d31",
        "colab": {
          "base_uri": "https://localhost:8080/",
          "height": 34
        }
      },
      "source": [
        "x=np.expand_dims(x,axis=0)\n",
        "img_data=preprocess_input(x)\n",
        "img_data.shape"
      ],
      "execution_count": 134,
      "outputs": [
        {
          "output_type": "execute_result",
          "data": {
            "text/plain": [
              "(1, 224, 224, 3)"
            ]
          },
          "metadata": {
            "tags": []
          },
          "execution_count": 134
        }
      ]
    },
    {
      "cell_type": "code",
      "metadata": {
        "id": "VCMBxyPz0SyV",
        "outputId": "68321310-4188-4a47-d0a4-374bd65d6524",
        "colab": {
          "base_uri": "https://localhost:8080/",
          "height": 34
        }
      },
      "source": [
        "result=np.argmax(model.predict(img_data), axis=1)\n",
        "if result == 0:\n",
        "  prediction =\"It's an Audi\"\n",
        "elif result == 1:\n",
        "  prediction = \"It's a Lamborghini\"\n",
        "elif result== 2:\n",
        "  prediction=\"It's a Mercedes\"\n",
        "\n",
        "print(prediction)"
      ],
      "execution_count": 135,
      "outputs": [
        {
          "output_type": "stream",
          "text": [
            "It's a Mercedes\n"
          ],
          "name": "stdout"
        }
      ]
    },
    {
      "cell_type": "code",
      "metadata": {
        "id": "z6nEpE6Q0VG1"
      },
      "source": [
        ""
      ],
      "execution_count": 179,
      "outputs": []
    },
    {
      "cell_type": "code",
      "metadata": {
        "id": "nXFMeO4Z06rY"
      },
      "source": [
        ""
      ],
      "execution_count": 41,
      "outputs": []
    },
    {
      "cell_type": "code",
      "metadata": {
        "id": "BBJV7hRS07L1"
      },
      "source": [
        ""
      ],
      "execution_count": null,
      "outputs": []
    }
  ]
}